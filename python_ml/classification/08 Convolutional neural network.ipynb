{
 "cells": [
  {
   "cell_type": "markdown",
   "metadata": {},
   "source": [
    "# 08. Convolutional neural network"
   ]
  },
  {
   "cell_type": "code",
   "execution_count": 1,
   "metadata": {},
   "outputs": [
    {
     "name": "stderr",
     "output_type": "stream",
     "text": [
      "/Users/jasonola/opt/anaconda3/envs/exts-ml/lib/python3.6/site-packages/tensorflow/python/framework/dtypes.py:523: FutureWarning: Passing (type, 1) or '1type' as a synonym of type is deprecated; in a future version of numpy, it will be understood as (type, (1,)) / '(1,)type'.\n",
      "  _np_qint8 = np.dtype([(\"qint8\", np.int8, 1)])\n",
      "/Users/jasonola/opt/anaconda3/envs/exts-ml/lib/python3.6/site-packages/tensorflow/python/framework/dtypes.py:524: FutureWarning: Passing (type, 1) or '1type' as a synonym of type is deprecated; in a future version of numpy, it will be understood as (type, (1,)) / '(1,)type'.\n",
      "  _np_quint8 = np.dtype([(\"quint8\", np.uint8, 1)])\n",
      "/Users/jasonola/opt/anaconda3/envs/exts-ml/lib/python3.6/site-packages/tensorflow/python/framework/dtypes.py:525: FutureWarning: Passing (type, 1) or '1type' as a synonym of type is deprecated; in a future version of numpy, it will be understood as (type, (1,)) / '(1,)type'.\n",
      "  _np_qint16 = np.dtype([(\"qint16\", np.int16, 1)])\n",
      "/Users/jasonola/opt/anaconda3/envs/exts-ml/lib/python3.6/site-packages/tensorflow/python/framework/dtypes.py:526: FutureWarning: Passing (type, 1) or '1type' as a synonym of type is deprecated; in a future version of numpy, it will be understood as (type, (1,)) / '(1,)type'.\n",
      "  _np_quint16 = np.dtype([(\"quint16\", np.uint16, 1)])\n",
      "/Users/jasonola/opt/anaconda3/envs/exts-ml/lib/python3.6/site-packages/tensorflow/python/framework/dtypes.py:527: FutureWarning: Passing (type, 1) or '1type' as a synonym of type is deprecated; in a future version of numpy, it will be understood as (type, (1,)) / '(1,)type'.\n",
      "  _np_qint32 = np.dtype([(\"qint32\", np.int32, 1)])\n",
      "/Users/jasonola/opt/anaconda3/envs/exts-ml/lib/python3.6/site-packages/tensorflow/python/framework/dtypes.py:532: FutureWarning: Passing (type, 1) or '1type' as a synonym of type is deprecated; in a future version of numpy, it will be understood as (type, (1,)) / '(1,)type'.\n",
      "  np_resource = np.dtype([(\"resource\", np.ubyte, 1)])\n"
     ]
    }
   ],
   "source": [
    "import numpy as np\n",
    "import tensorflow.keras as keras\n",
    "from tensorflow.keras.layers import Conv3D,MaxPool3D,Flatten,Dense,Dropout,Conv2D,MaxPool2D"
   ]
  },
  {
   "cell_type": "markdown",
   "metadata": {},
   "source": [
    "Let's take the raw data this time"
   ]
  },
  {
   "cell_type": "code",
   "execution_count": 2,
   "metadata": {},
   "outputs": [],
   "source": [
    "with np.load(\"raw_train.npz\",allow_pickle=False) as train_npz:\n",
    "    train_data = dict(train_npz.items())\n",
    "\n",
    "with np.load(\"raw_valid.npz\",allow_pickle=False) as valid_npz:\n",
    "    valid_data = dict(valid_npz.items())\n",
    "\n",
    "with np.load(\"raw_test.npz\",allow_pickle=False) as test_npz:\n",
    "    test_data = dict(test_npz.items())"
   ]
  },
  {
   "cell_type": "code",
   "execution_count": 3,
   "metadata": {},
   "outputs": [],
   "source": [
    "X_train,y_train = train_data.values()\n",
    "X_valid,y_valid = valid_data.values()\n",
    "X_test,y_test = test_data.values()"
   ]
  },
  {
   "cell_type": "code",
   "execution_count": 4,
   "metadata": {},
   "outputs": [],
   "source": [
    "X_train = np.concatenate((X_train,X_valid))\n",
    "y_train = np.concatenate((y_train,y_valid))"
   ]
  },
  {
   "cell_type": "markdown",
   "metadata": {},
   "source": [
    "We can now create a convolutional model, data is already scaled between 0-1.  \n",
    "I'll make a similar model as in the course but implement it with keras.  \n",
    "I make 2 convolutional layers with maxpooling and flatten in between as well as a drop out layer to prevent overfitting"
   ]
  },
  {
   "cell_type": "code",
   "execution_count": 5,
   "metadata": {},
   "outputs": [
    {
     "data": {
      "text/plain": [
       "6.0"
      ]
     },
     "execution_count": 5,
     "metadata": {},
     "output_type": "execute_result"
    }
   ],
   "source": [
    "y_train.max()+1"
   ]
  },
  {
   "cell_type": "code",
   "execution_count": 9,
   "metadata": {},
   "outputs": [
    {
     "data": {
      "text/plain": [
       "(420, 299, 299, 3)"
      ]
     },
     "execution_count": 9,
     "metadata": {},
     "output_type": "execute_result"
    }
   ],
   "source": [
    "X_train.shape"
   ]
  },
  {
   "cell_type": "code",
   "execution_count": 6,
   "metadata": {},
   "outputs": [],
   "source": [
    "input_shape = X_train.shape[-3:]\n",
    "no_logits = y_train.max()+1"
   ]
  },
  {
   "cell_type": "code",
   "execution_count": 7,
   "metadata": {},
   "outputs": [
    {
     "name": "stdout",
     "output_type": "stream",
     "text": [
      "_________________________________________________________________\n",
      "Layer (type)                 Output Shape              Param #   \n",
      "=================================================================\n",
      "conv2d (Conv2D)              (None, 150, 150, 16)      1216      \n",
      "_________________________________________________________________\n",
      "max_pooling2d (MaxPooling2D) (None, 75, 75, 16)        0         \n",
      "_________________________________________________________________\n",
      "conv2d_1 (Conv2D)            (None, 75, 75, 16)        2320      \n",
      "_________________________________________________________________\n",
      "max_pooling2d_1 (MaxPooling2 (None, 38, 38, 16)        0         \n",
      "_________________________________________________________________\n",
      "flatten (Flatten)            (None, 23104)             0         \n",
      "_________________________________________________________________\n",
      "dropout (Dropout)            (None, 23104)             0         \n",
      "_________________________________________________________________\n",
      "dense (Dense)                (None, 256)               5914880   \n",
      "_________________________________________________________________\n",
      "dense_1 (Dense)              (None, 6)                 1542      \n",
      "=================================================================\n",
      "Total params: 5,919,958\n",
      "Trainable params: 5,919,958\n",
      "Non-trainable params: 0\n",
      "_________________________________________________________________\n"
     ]
    }
   ],
   "source": [
    "cnn = keras.Sequential()\n",
    "cnn.add(Conv2D(filters=16,kernel_size=(5,5),strides=(2,2),padding=\"same\",activation=\"relu\",input_shape=input_shape))\n",
    "cnn.add(MaxPool2D(strides=(2,2),padding=\"same\"))\n",
    "cnn.add(Conv2D(filters=16,kernel_size=(3,3),strides=(1,1),padding=\"same\",activation=\"relu\"))\n",
    "cnn.add(MaxPool2D(strides=(2,2),padding=\"same\"))\n",
    "cnn.add(Flatten())\n",
    "cnn.add(Dropout(0.5))\n",
    "cnn.add(Dense(units=256,activation=\"relu\",kernel_regularizer=keras.regularizers.l2(0.01)))\n",
    "cnn.add(Dense(units=no_logits,activation=\"softmax\"))\n",
    "cnn.summary()"
   ]
  },
  {
   "cell_type": "markdown",
   "metadata": {},
   "source": [
    "Now that we have a model let's fit it."
   ]
  },
  {
   "cell_type": "code",
   "execution_count": 8,
   "metadata": {},
   "outputs": [],
   "source": [
    "cnn.compile(optimizer=\"adam\",loss=\"sparse_categorical_crossentropy\",metrics=[\"acc\"])\n",
    "early_stopping = keras.callbacks.EarlyStopping(patience=12)"
   ]
  },
  {
   "cell_type": "code",
   "execution_count": 9,
   "metadata": {},
   "outputs": [
    {
     "name": "stdout",
     "output_type": "stream",
     "text": [
      "Train on 336 samples, validate on 84 samples\n",
      "Epoch 1/100\n",
      "336/336 [==============================] - 9s 26ms/step - loss: 5.9152 - acc: 0.1756 - val_loss: 4.1371 - val_acc: 0.2262\n",
      "Epoch 2/100\n",
      "336/336 [==============================] - 4s 12ms/step - loss: 3.6345 - acc: 0.2738 - val_loss: 3.0786 - val_acc: 0.2857\n",
      "Epoch 3/100\n",
      "336/336 [==============================] - 3s 10ms/step - loss: 2.8912 - acc: 0.3006 - val_loss: 2.5382 - val_acc: 0.4524\n",
      "Epoch 4/100\n",
      "336/336 [==============================] - 3s 10ms/step - loss: 2.3962 - acc: 0.3125 - val_loss: 2.1920 - val_acc: 0.3452\n",
      "Epoch 5/100\n",
      "336/336 [==============================] - 3s 10ms/step - loss: 2.1046 - acc: 0.3482 - val_loss: 2.3859 - val_acc: 0.1786\n",
      "Epoch 6/100\n",
      "336/336 [==============================] - 3s 10ms/step - loss: 1.9233 - acc: 0.3661 - val_loss: 1.9535 - val_acc: 0.3810\n",
      "Epoch 7/100\n",
      "336/336 [==============================] - 3s 10ms/step - loss: 1.7611 - acc: 0.4732 - val_loss: 1.8498 - val_acc: 0.3929\n",
      "Epoch 8/100\n",
      "336/336 [==============================] - 3s 10ms/step - loss: 1.5911 - acc: 0.5685 - val_loss: 2.0243 - val_acc: 0.2738\n",
      "Epoch 9/100\n",
      "336/336 [==============================] - 3s 10ms/step - loss: 1.4630 - acc: 0.6190 - val_loss: 1.7054 - val_acc: 0.5000\n",
      "Epoch 10/100\n",
      "336/336 [==============================] - 3s 10ms/step - loss: 1.4316 - acc: 0.6429 - val_loss: 1.7674 - val_acc: 0.4643\n",
      "Epoch 11/100\n",
      "336/336 [==============================] - 3s 10ms/step - loss: 1.1896 - acc: 0.7708 - val_loss: 1.8378 - val_acc: 0.5476\n",
      "Epoch 12/100\n",
      "336/336 [==============================] - 4s 10ms/step - loss: 1.0052 - acc: 0.8542 - val_loss: 2.1935 - val_acc: 0.3214\n",
      "Epoch 13/100\n",
      "336/336 [==============================] - 4s 10ms/step - loss: 0.9652 - acc: 0.8452 - val_loss: 1.9604 - val_acc: 0.4762\n",
      "Epoch 14/100\n",
      "336/336 [==============================] - 4s 11ms/step - loss: 0.8880 - acc: 0.9077 - val_loss: 1.9673 - val_acc: 0.4643\n",
      "Epoch 15/100\n",
      "336/336 [==============================] - 3s 10ms/step - loss: 0.8139 - acc: 0.9583 - val_loss: 2.0340 - val_acc: 0.5000\n",
      "Epoch 16/100\n",
      "336/336 [==============================] - 3s 10ms/step - loss: 0.7097 - acc: 0.9762 - val_loss: 2.0576 - val_acc: 0.4643\n",
      "Epoch 17/100\n",
      "336/336 [==============================] - 4s 11ms/step - loss: 0.6041 - acc: 0.9851 - val_loss: 1.8892 - val_acc: 0.5000\n",
      "Epoch 18/100\n",
      "336/336 [==============================] - 3s 10ms/step - loss: 0.5763 - acc: 0.9702 - val_loss: 2.6820 - val_acc: 0.2619\n",
      "Epoch 19/100\n",
      "336/336 [==============================] - 4s 11ms/step - loss: 0.5608 - acc: 0.9732 - val_loss: 1.9145 - val_acc: 0.4167\n",
      "Epoch 20/100\n",
      "336/336 [==============================] - 4s 11ms/step - loss: 0.5491 - acc: 0.9821 - val_loss: 2.5950 - val_acc: 0.2976\n",
      "Epoch 21/100\n",
      "336/336 [==============================] - 3s 10ms/step - loss: 0.6025 - acc: 0.9405 - val_loss: 2.2851 - val_acc: 0.5000\n"
     ]
    }
   ],
   "source": [
    "history = cnn.fit(X_train,y_train,batch_size=32,epochs=100,validation_split=0.2,callbacks=[early_stopping])"
   ]
  },
  {
   "cell_type": "code",
   "execution_count": 10,
   "metadata": {},
   "outputs": [
    {
     "name": "stdout",
     "output_type": "stream",
     "text": [
      "Mean validation accuracy (last 5) : 39.5%\n"
     ]
    }
   ],
   "source": [
    "mean_val_acc = np.mean(history.history[\"val_acc\"][-5:])\n",
    "print(\"Mean validation accuracy (last 5) : {:.1f}%\".format(100*mean_val_acc))"
   ]
  },
  {
   "cell_type": "markdown",
   "metadata": {},
   "source": [
    "We see that we get an accuracy below 50% which is a little dissapointing but knowing that we worked with high-level features until now, maybe it's not that bad. Also, I think that if we had more data than just a few hundreds, we could have better results too."
   ]
  },
  {
   "cell_type": "code",
   "execution_count": 11,
   "metadata": {},
   "outputs": [
    {
     "name": "stdout",
     "output_type": "stream",
     "text": [
      "50/50 [==============================] - 0s 7ms/step\n"
     ]
    }
   ],
   "source": [
    "(cnn_test_loss,cnn_test_acc) = cnn.evaluate(X_test,y_test)"
   ]
  },
  {
   "cell_type": "code",
   "execution_count": 12,
   "metadata": {},
   "outputs": [
    {
     "name": "stdout",
     "output_type": "stream",
     "text": [
      "Test accuracy cnn : 40.0%\n"
     ]
    }
   ],
   "source": [
    "cnn_test_acc = round(cnn_test_acc*100,1)\n",
    "print(\"Test accuracy cnn : {:.1f}%\".format(cnn_test_acc))"
   ]
  },
  {
   "cell_type": "code",
   "execution_count": 13,
   "metadata": {},
   "outputs": [
    {
     "name": "stdout",
     "output_type": "stream",
     "text": [
      "Stored 'cnn_test_acc' (float64)\n"
     ]
    }
   ],
   "source": [
    "%store cnn_test_acc"
   ]
  },
  {
   "cell_type": "code",
   "execution_count": null,
   "metadata": {},
   "outputs": [],
   "source": []
  }
 ],
 "metadata": {
  "kernelspec": {
   "display_name": "Python 3",
   "language": "python",
   "name": "python3"
  },
  "language_info": {
   "codemirror_mode": {
    "name": "ipython",
    "version": 3
   },
   "file_extension": ".py",
   "mimetype": "text/x-python",
   "name": "python",
   "nbconvert_exporter": "python",
   "pygments_lexer": "ipython3",
   "version": "3.6.10"
  }
 },
 "nbformat": 4,
 "nbformat_minor": 4
}
