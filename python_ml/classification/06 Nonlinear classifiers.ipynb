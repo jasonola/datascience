{
 "cells": [
  {
   "cell_type": "markdown",
   "metadata": {},
   "source": [
    "# 06. Nonlinear classifiers"
   ]
  },
  {
   "cell_type": "code",
   "execution_count": 1,
   "metadata": {},
   "outputs": [],
   "source": [
    "import numpy as np\n",
    "import pandas as pd\n",
    "import matplotlib.pyplot as plt\n",
    "%matplotlib inline\n",
    "from sklearn.pipeline import Pipeline\n",
    "from sklearn.ensemble import RandomForestClassifier\n",
    "from sklearn.model_selection import GridSearchCV\n",
    "from sklearn.svm import LinearSVC\n",
    "from sklearn.svm import SVC\n",
    "import warnings\n",
    "from sklearn.exceptions import ConvergenceWarning\n",
    "warnings.filterwarnings(\"ignore\", category=DeprecationWarning) \n",
    "warnings.filterwarnings(\"ignore\", category=ConvergenceWarning) \n"
   ]
  },
  {
   "cell_type": "code",
   "execution_count": 2,
   "metadata": {},
   "outputs": [],
   "source": [
    "with np.load(\"train_data.npz\",allow_pickle=False) as npztrain:\n",
    "    train_data = dict(npztrain.items())\n",
    "\n",
    "with np.load(\"valid_data.npz\",allow_pickle=False) as npzvalid:\n",
    "    valid_data = dict(npzvalid.items())\n",
    "    \n",
    "with np.load(\"test_data.npz\",allow_pickle=False) as npztest:\n",
    "    test_data = dict(npztest.items())"
   ]
  },
  {
   "cell_type": "code",
   "execution_count": 3,
   "metadata": {},
   "outputs": [],
   "source": [
    "X_train,y_train = train_data.values()\n",
    "X_valid,y_valid = valid_data.values()\n",
    "X_test,y_test = test_data.values()"
   ]
  },
  {
   "cell_type": "markdown",
   "metadata": {},
   "source": [
    "Let's start by making a random forest with 10 trees with maximum depth of 5"
   ]
  },
  {
   "cell_type": "code",
   "execution_count": 4,
   "metadata": {},
   "outputs": [],
   "source": [
    "dt = Pipeline([\n",
    "    (\"forest\",RandomForestClassifier(n_estimators=10, max_depth=5, random_state=0))\n",
    "])"
   ]
  },
  {
   "cell_type": "code",
   "execution_count": 5,
   "metadata": {},
   "outputs": [
    {
     "name": "stdout",
     "output_type": "stream",
     "text": [
      "Accuracy of Random Forest with 10 trees : 90.6%\n"
     ]
    }
   ],
   "source": [
    "dt.fit(X_train,y_train)\n",
    "print(\"Accuracy of Random Forest with 10 trees : {:.1f}%\".format(100*dt.score(X_valid,y_valid)))"
   ]
  },
  {
   "cell_type": "markdown",
   "metadata": {},
   "source": [
    "We can tune the parameters to get better result. Lets vary the number of estimators along with the depth of the trees."
   ]
  },
  {
   "cell_type": "code",
   "execution_count": 6,
   "metadata": {},
   "outputs": [],
   "source": [
    "grid = {\n",
    "    \"forest__n_estimators\": [1,5,10,20,50,100,200],\n",
    "    \"forest__max_depth\": [1,3,5,10,50,None]\n",
    "}"
   ]
  },
  {
   "cell_type": "code",
   "execution_count": 7,
   "metadata": {},
   "outputs": [],
   "source": [
    "dtcv = GridSearchCV(dt,grid,cv=5,return_train_score=True)"
   ]
  },
  {
   "cell_type": "code",
   "execution_count": 8,
   "metadata": {},
   "outputs": [],
   "source": [
    "dtcv.fit(X_train,y_train);"
   ]
  },
  {
   "cell_type": "code",
   "execution_count": 9,
   "metadata": {},
   "outputs": [
    {
     "name": "stdout",
     "output_type": "stream",
     "text": [
      "The best parameters are \n",
      "\n",
      "- forest__max_depth : 10\n",
      "- forest__n_estimators : 100\n",
      "\n",
      "With a test accuracy of 93.24%\n"
     ]
    }
   ],
   "source": [
    "print(\"The best parameters are \\n\")\n",
    "for i,j in dtcv.best_params_.items():\n",
    "    print(\"- {} : {}\".format(i,j))\n",
    "print(\"\\nWith a test accuracy of {:.2f}%\".format(100*dtcv.best_score_))"
   ]
  },
  {
   "cell_type": "markdown",
   "metadata": {},
   "source": [
    "Let's try and fine tune it "
   ]
  },
  {
   "cell_type": "code",
   "execution_count": 10,
   "metadata": {},
   "outputs": [],
   "source": [
    "fine_grid = {\n",
    "    \"forest__n_estimators\": [30,40,50,60,80,100,150,300],\n",
    "    \"forest__max_depth\": [5,6,7,8,9,10,10,11,12]\n",
    "}"
   ]
  },
  {
   "cell_type": "code",
   "execution_count": 11,
   "metadata": {},
   "outputs": [],
   "source": [
    "dtcv_fine = GridSearchCV(dt,fine_grid,cv=5,return_train_score=True)"
   ]
  },
  {
   "cell_type": "code",
   "execution_count": 12,
   "metadata": {},
   "outputs": [],
   "source": [
    "dtcv_fine.fit(X_train,y_train);"
   ]
  },
  {
   "cell_type": "code",
   "execution_count": 13,
   "metadata": {},
   "outputs": [
    {
     "name": "stdout",
     "output_type": "stream",
     "text": [
      "The best parameters are \n",
      "\n",
      "- forest__max_depth : 8\n",
      "- forest__n_estimators : 80\n",
      "\n",
      "With a test accuracy of 93.59%\n"
     ]
    }
   ],
   "source": [
    "print(\"The best parameters are \\n\")\n",
    "for i,j in dtcv_fine.best_params_.items():\n",
    "    print(\"- {} : {}\".format(i,j))\n",
    "print(\"\\nWith a test accuracy of {:.2f}%\".format(100*dtcv_fine.best_score_))"
   ]
  },
  {
   "cell_type": "markdown",
   "metadata": {},
   "source": [
    "We managed to improve the accuracy ! now let's fix the depth to see how the accuracy changes when we increase the number of trees"
   ]
  },
  {
   "cell_type": "code",
   "execution_count": 14,
   "metadata": {},
   "outputs": [],
   "source": [
    "n_estimators_grid = {\n",
    "    \"forest__n_estimators\": [50,60,80,100,150,300,500,1000],\n",
    "    \"forest__max_depth\": [dtcv_fine.best_params_[\"forest__n_estimators\"]]\n",
    "}"
   ]
  },
  {
   "cell_type": "code",
   "execution_count": 15,
   "metadata": {},
   "outputs": [],
   "source": [
    "dtcv_locked_max_depth = GridSearchCV(dt,n_estimators_grid,cv=5,return_train_score=True)"
   ]
  },
  {
   "cell_type": "code",
   "execution_count": 16,
   "metadata": {},
   "outputs": [],
   "source": [
    "dtcv_locked_max_depth.fit(X_train,y_train);"
   ]
  },
  {
   "cell_type": "code",
   "execution_count": 17,
   "metadata": {},
   "outputs": [],
   "source": [
    "cols = ['mean_test_score',\"param_forest__n_estimators\"]\n",
    "cv_results = pd.DataFrame(dtcv_locked_max_depth.cv_results_,columns=cols)"
   ]
  },
  {
   "cell_type": "code",
   "execution_count": 18,
   "metadata": {},
   "outputs": [
    {
     "data": {
      "text/html": [
       "<div>\n",
       "<style scoped>\n",
       "    .dataframe tbody tr th:only-of-type {\n",
       "        vertical-align: middle;\n",
       "    }\n",
       "\n",
       "    .dataframe tbody tr th {\n",
       "        vertical-align: top;\n",
       "    }\n",
       "\n",
       "    .dataframe thead th {\n",
       "        text-align: right;\n",
       "    }\n",
       "</style>\n",
       "<table border=\"1\" class=\"dataframe\">\n",
       "  <thead>\n",
       "    <tr style=\"text-align: right;\">\n",
       "      <th></th>\n",
       "      <th>mean_test_score</th>\n",
       "      <th>param_forest__n_estimators</th>\n",
       "    </tr>\n",
       "  </thead>\n",
       "  <tbody>\n",
       "    <tr>\n",
       "      <th>0</th>\n",
       "      <td>0.914591</td>\n",
       "      <td>50</td>\n",
       "    </tr>\n",
       "    <tr>\n",
       "      <th>1</th>\n",
       "      <td>0.921708</td>\n",
       "      <td>60</td>\n",
       "    </tr>\n",
       "    <tr>\n",
       "      <th>2</th>\n",
       "      <td>0.921708</td>\n",
       "      <td>80</td>\n",
       "    </tr>\n",
       "    <tr>\n",
       "      <th>3</th>\n",
       "      <td>0.932384</td>\n",
       "      <td>100</td>\n",
       "    </tr>\n",
       "    <tr>\n",
       "      <th>4</th>\n",
       "      <td>0.932384</td>\n",
       "      <td>150</td>\n",
       "    </tr>\n",
       "    <tr>\n",
       "      <th>5</th>\n",
       "      <td>0.932384</td>\n",
       "      <td>300</td>\n",
       "    </tr>\n",
       "    <tr>\n",
       "      <th>6</th>\n",
       "      <td>0.925267</td>\n",
       "      <td>500</td>\n",
       "    </tr>\n",
       "    <tr>\n",
       "      <th>7</th>\n",
       "      <td>0.925267</td>\n",
       "      <td>1000</td>\n",
       "    </tr>\n",
       "  </tbody>\n",
       "</table>\n",
       "</div>"
      ],
      "text/plain": [
       "   mean_test_score param_forest__n_estimators\n",
       "0         0.914591                         50\n",
       "1         0.921708                         60\n",
       "2         0.921708                         80\n",
       "3         0.932384                        100\n",
       "4         0.932384                        150\n",
       "5         0.932384                        300\n",
       "6         0.925267                        500\n",
       "7         0.925267                       1000"
      ]
     },
     "execution_count": 18,
     "metadata": {},
     "output_type": "execute_result"
    }
   ],
   "source": [
    "cv_results"
   ]
  },
  {
   "cell_type": "code",
   "execution_count": 19,
   "metadata": {},
   "outputs": [
    {
     "data": {
      "image/png": "[encoded data removed]",
      "text/plain": [
       "<Figure size 432x288 with 1 Axes>"
      ]
     },
     "metadata": {
      "needs_background": "light"
     },
     "output_type": "display_data"
    }
   ],
   "source": [
    "plt.plot(cv_results.param_forest__n_estimators,cv_results.mean_test_score)\n",
    "plt.title(\"Accuracy changes according to the number of components \\n\")\n",
    "plt.xlabel(\"Number of components\")\n",
    "plt.ylabel(\"Accuracy\");"
   ]
  },
  {
   "cell_type": "markdown",
   "metadata": {},
   "source": [
    "We see that the accuracy spikes at around 100 components"
   ]
  },
  {
   "cell_type": "markdown",
   "metadata": {},
   "source": [
    "Let's now try with SVMs, we will start with the linear one."
   ]
  },
  {
   "cell_type": "code",
   "execution_count": 20,
   "metadata": {},
   "outputs": [],
   "source": [
    "linear_svm = Pipeline([\n",
    "    (\"linear_svm\",LinearSVC())\n",
    "])"
   ]
  },
  {
   "cell_type": "code",
   "execution_count": 21,
   "metadata": {},
   "outputs": [],
   "source": [
    "grid_lin_svm = {\n",
    "    \"linear_svm__C\":np.logspace(-4,4,num=9)\n",
    "}"
   ]
  },
  {
   "cell_type": "code",
   "execution_count": 22,
   "metadata": {},
   "outputs": [],
   "source": [
    "gs_lin_svm = GridSearchCV(linear_svm,grid_lin_svm,cv=5,return_train_score=True)\n",
    "gs_lin_svm.fit(X_train,y_train);"
   ]
  },
  {
   "cell_type": "code",
   "execution_count": 23,
   "metadata": {},
   "outputs": [
    {
     "data": {
      "text/html": [
       "<div>\n",
       "<style scoped>\n",
       "    .dataframe tbody tr th:only-of-type {\n",
       "        vertical-align: middle;\n",
       "    }\n",
       "\n",
       "    .dataframe tbody tr th {\n",
       "        vertical-align: top;\n",
       "    }\n",
       "\n",
       "    .dataframe thead th {\n",
       "        text-align: right;\n",
       "    }\n",
       "</style>\n",
       "<table border=\"1\" class=\"dataframe\">\n",
       "  <thead>\n",
       "    <tr style=\"text-align: right;\">\n",
       "      <th></th>\n",
       "      <th>mean_test_score</th>\n",
       "      <th>param_linear_svm__C</th>\n",
       "    </tr>\n",
       "  </thead>\n",
       "  <tbody>\n",
       "    <tr>\n",
       "      <th>3</th>\n",
       "      <td>0.94306</td>\n",
       "      <td>0.1</td>\n",
       "    </tr>\n",
       "    <tr>\n",
       "      <th>4</th>\n",
       "      <td>0.94306</td>\n",
       "      <td>1</td>\n",
       "    </tr>\n",
       "    <tr>\n",
       "      <th>5</th>\n",
       "      <td>0.94306</td>\n",
       "      <td>10</td>\n",
       "    </tr>\n",
       "  </tbody>\n",
       "</table>\n",
       "</div>"
      ],
      "text/plain": [
       "   mean_test_score param_linear_svm__C\n",
       "3          0.94306                 0.1\n",
       "4          0.94306                   1\n",
       "5          0.94306                  10"
      ]
     },
     "execution_count": 23,
     "metadata": {},
     "output_type": "execute_result"
    }
   ],
   "source": [
    "cv_results2 = pd.DataFrame(gs_lin_svm.cv_results_)[[\"mean_test_score\",\"param_linear_svm__C\"]]\n",
    "cv_results2.sort_values(by=\"mean_test_score\",ascending=False).head(3)"
   ]
  },
  {
   "cell_type": "code",
   "execution_count": 24,
   "metadata": {},
   "outputs": [
    {
     "name": "stdout",
     "output_type": "stream",
     "text": [
      "Best parameter for C : 0.1\n",
      "Best accuracy : 94.31%\n"
     ]
    }
   ],
   "source": [
    "print(\"Best parameter for C :\",gs_lin_svm.best_params_[\"linear_svm__C\"])\n",
    "print(\"Best accuracy : {:.2f}%\".format(gs_lin_svm.best_score_*100))"
   ]
  },
  {
   "cell_type": "markdown",
   "metadata": {},
   "source": [
    "Let's now use the rbf kernel one."
   ]
  },
  {
   "cell_type": "code",
   "execution_count": 25,
   "metadata": {},
   "outputs": [],
   "source": [
    "rbf_svm = Pipeline([\n",
    "    (\"rbf_svm\",SVC())\n",
    "])"
   ]
  },
  {
   "cell_type": "code",
   "execution_count": 26,
   "metadata": {},
   "outputs": [],
   "source": [
    "grid_rbf = {\n",
    "    \"rbf_svm__C\":np.logspace(-4,4,num=9),\n",
    "    \"rbf_svm__gamma\":np.logspace(-4,4,num=9)\n",
    "}"
   ]
  },
  {
   "cell_type": "code",
   "execution_count": 27,
   "metadata": {},
   "outputs": [],
   "source": [
    "gs_rbf_svm = GridSearchCV(rbf_svm,grid_rbf,cv=5,return_train_score=True)"
   ]
  },
  {
   "cell_type": "code",
   "execution_count": 28,
   "metadata": {},
   "outputs": [],
   "source": [
    "gs_rbf_svm.fit(X_train,y_train);"
   ]
  },
  {
   "cell_type": "code",
   "execution_count": 29,
   "metadata": {},
   "outputs": [
    {
     "data": {
      "text/html": [
       "<div>\n",
       "<style scoped>\n",
       "    .dataframe tbody tr th:only-of-type {\n",
       "        vertical-align: middle;\n",
       "    }\n",
       "\n",
       "    .dataframe tbody tr th {\n",
       "        vertical-align: top;\n",
       "    }\n",
       "\n",
       "    .dataframe thead th {\n",
       "        text-align: right;\n",
       "    }\n",
       "</style>\n",
       "<table border=\"1\" class=\"dataframe\">\n",
       "  <thead>\n",
       "    <tr style=\"text-align: right;\">\n",
       "      <th></th>\n",
       "      <th>mean_test_score</th>\n",
       "      <th>param_rbf_svm__C</th>\n",
       "      <th>param_rbf_svm__gamma</th>\n",
       "    </tr>\n",
       "  </thead>\n",
       "  <tbody>\n",
       "    <tr>\n",
       "      <th>54</th>\n",
       "      <td>0.950178</td>\n",
       "      <td>100</td>\n",
       "      <td>0.0001</td>\n",
       "    </tr>\n",
       "    <tr>\n",
       "      <th>46</th>\n",
       "      <td>0.946619</td>\n",
       "      <td>10</td>\n",
       "      <td>0.001</td>\n",
       "    </tr>\n",
       "    <tr>\n",
       "      <th>55</th>\n",
       "      <td>0.943060</td>\n",
       "      <td>100</td>\n",
       "      <td>0.001</td>\n",
       "    </tr>\n",
       "  </tbody>\n",
       "</table>\n",
       "</div>"
      ],
      "text/plain": [
       "    mean_test_score param_rbf_svm__C param_rbf_svm__gamma\n",
       "54         0.950178              100               0.0001\n",
       "46         0.946619               10                0.001\n",
       "55         0.943060              100                0.001"
      ]
     },
     "execution_count": 29,
     "metadata": {},
     "output_type": "execute_result"
    }
   ],
   "source": [
    "cv_results3 = pd.DataFrame(gs_rbf_svm.cv_results_)[[\"mean_test_score\",\"param_rbf_svm__C\",\"param_rbf_svm__gamma\"]]\n",
    "cv_results3.sort_values(by=\"mean_test_score\",ascending=False).head(3)"
   ]
  },
  {
   "cell_type": "markdown",
   "metadata": {},
   "source": [
    "We see that we get very similar results, let's now compute and collect our test accuracies"
   ]
  },
  {
   "cell_type": "code",
   "execution_count": 30,
   "metadata": {},
   "outputs": [
    {
     "name": "stdout",
     "output_type": "stream",
     "text": [
      "Test accuracy random forest : 94.0%\n",
      "Test accuracy linear : 92.0%\n",
      "Test accuracy rbf : 92.0%\n"
     ]
    }
   ],
   "source": [
    "rf_test_acc = 100*dtcv_fine.score(X_test,y_test)\n",
    "linsvm_test_acc = 100*gs_lin_svm.score(X_test,y_test)\n",
    "rbfsvm_test_acc = 100*gs_rbf_svm.score(X_test,y_test)\n",
    "print(\"Test accuracy random forest : {:.1f}%\".format(rf_test_acc))\n",
    "print(\"Test accuracy linear : {:.1f}%\".format(linsvm_test_acc))\n",
    "print(\"Test accuracy rbf : {:.1f}%\".format(rbfsvm_test_acc))"
   ]
  },
  {
   "cell_type": "code",
   "execution_count": 31,
   "metadata": {},
   "outputs": [
    {
     "name": "stdout",
     "output_type": "stream",
     "text": [
      "Stored 'rf_test_acc' (float64)\n",
      "Stored 'linsvm_test_acc' (float64)\n",
      "Stored 'rbfsvm_test_acc' (float64)\n"
     ]
    }
   ],
   "source": [
    "%store rf_test_acc\n",
    "%store linsvm_test_acc\n",
    "%store rbfsvm_test_acc"
   ]
  },
  {
   "cell_type": "code",
   "execution_count": null,
   "metadata": {},
   "outputs": [],
   "source": []
  }
 ],
 "metadata": {
  "kernelspec": {
   "display_name": "Python 3",
   "language": "python",
   "name": "python3"
  },
  "language_info": {
   "codemirror_mode": {
    "name": "ipython",
    "version": 3
   },
   "file_extension": ".py",
   "mimetype": "text/x-python",
   "name": "python",
   "nbconvert_exporter": "python",
   "pygments_lexer": "ipython3",
   "version": "3.6.10"
  }
 },
 "nbformat": 4,
 "nbformat_minor": 4
}
