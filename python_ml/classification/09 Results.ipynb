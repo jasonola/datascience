{
 "cells": [
  {
   "cell_type": "markdown",
   "metadata": {},
   "source": [
    "# 09. Results"
   ]
  },
  {
   "cell_type": "code",
   "execution_count": 1,
   "metadata": {},
   "outputs": [],
   "source": [
    "import pandas as pd\n",
    "import matplotlib.pyplot as plt\n",
    "%matplotlib inline"
   ]
  },
  {
   "cell_type": "markdown",
   "metadata": {},
   "source": [
    "Finally to collect our accuracy we use our magic command to get the stored variable from the other notebooks"
   ]
  },
  {
   "cell_type": "code",
   "execution_count": 2,
   "metadata": {},
   "outputs": [],
   "source": [
    "%store -r knn_test_acc\n",
    "%store -r dt_test_acc\n",
    "%store -r logreg_test_acc\n",
    "%store -r rf_test_acc\n",
    "%store -r linsvm_test_acc\n",
    "%store -r rbfsvm_test_acc\n",
    "%store -r nn1_test_acc\n",
    "%store -r nn2_test_acc\n",
    "%store -r cnn_test_acc"
   ]
  },
  {
   "cell_type": "code",
   "execution_count": 3,
   "metadata": {},
   "outputs": [],
   "source": [
    "accuracies = {\"k-NN\":knn_test_acc,\n",
    "              \"Decision tree\": dt_test_acc,\n",
    "              \"Logistic regression\":logreg_test_acc,\n",
    "              \"Random forest\":rf_test_acc,\n",
    "              \"Linear SVM\":linsvm_test_acc, \n",
    "              \"RBF SVM\":rbfsvm_test_acc, \n",
    "              \"1 Layer nn\":nn1_test_acc, \n",
    "              \"2 Layer nn\":nn2_test_acc, \n",
    "              \"Conv net\":cnn_test_acc}"
   ]
  },
  {
   "cell_type": "code",
   "execution_count": 4,
   "metadata": {},
   "outputs": [
    {
     "data": {
      "text/html": [
       "<div>\n",
       "<style scoped>\n",
       "    .dataframe tbody tr th:only-of-type {\n",
       "        vertical-align: middle;\n",
       "    }\n",
       "\n",
       "    .dataframe tbody tr th {\n",
       "        vertical-align: top;\n",
       "    }\n",
       "\n",
       "    .dataframe thead th {\n",
       "        text-align: right;\n",
       "    }\n",
       "</style>\n",
       "<table border=\"1\" class=\"dataframe\">\n",
       "  <thead>\n",
       "    <tr style=\"text-align: right;\">\n",
       "      <th></th>\n",
       "      <th>k-NN</th>\n",
       "      <th>Decision tree</th>\n",
       "      <th>Logistic regression</th>\n",
       "      <th>Random forest</th>\n",
       "      <th>Linear SVM</th>\n",
       "      <th>RBF SVM</th>\n",
       "      <th>1 Layer nn</th>\n",
       "      <th>2 Layer nn</th>\n",
       "      <th>Conv net</th>\n",
       "    </tr>\n",
       "  </thead>\n",
       "  <tbody>\n",
       "    <tr>\n",
       "      <th>Accuracies in %</th>\n",
       "      <td>92.0</td>\n",
       "      <td>76.0</td>\n",
       "      <td>96.0</td>\n",
       "      <td>94.0</td>\n",
       "      <td>92.0</td>\n",
       "      <td>92.0</td>\n",
       "      <td>96.0</td>\n",
       "      <td>96.0</td>\n",
       "      <td>40.0</td>\n",
       "    </tr>\n",
       "  </tbody>\n",
       "</table>\n",
       "</div>"
      ],
      "text/plain": [
       "                 k-NN  Decision tree  Logistic regression  Random forest  \\\n",
       "Accuracies in %  92.0           76.0                 96.0           94.0   \n",
       "\n",
       "                 Linear SVM  RBF SVM  1 Layer nn  2 Layer nn  Conv net  \n",
       "Accuracies in %        92.0     92.0        96.0        96.0      40.0  "
      ]
     },
     "execution_count": 4,
     "metadata": {},
     "output_type": "execute_result"
    }
   ],
   "source": [
    "pd.DataFrame([accuracies],index=[\"Accuracies in %\"])"
   ]
  },
  {
   "cell_type": "code",
   "execution_count": null,
   "metadata": {},
   "outputs": [],
   "source": []
  }
 ],
 "metadata": {
  "kernelspec": {
   "display_name": "Python 3",
   "language": "python",
   "name": "python3"
  },
  "language_info": {
   "codemirror_mode": {
    "name": "ipython",
    "version": 3
   },
   "file_extension": ".py",
   "mimetype": "text/x-python",
   "name": "python",
   "nbconvert_exporter": "python",
   "pygments_lexer": "ipython3",
   "version": "3.6.10"
  }
 },
 "nbformat": 4,
 "nbformat_minor": 4
}
