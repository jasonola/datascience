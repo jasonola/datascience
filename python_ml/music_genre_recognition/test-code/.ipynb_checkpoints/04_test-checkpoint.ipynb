{
 "cells": [
  {
   "cell_type": "code",
   "execution_count": 1,
   "metadata": {},
   "outputs": [],
   "source": [
    "import pickle\n",
    "import numpy as np\n",
    "from pyAudioAnalysis import MidTermFeatures as aF\n",
    "from pyAudioAnalysis import audioBasicIO as aIO \n",
    "import IPython\n",
    "import librosa\n",
    "import scipy.io.wavfile as wavfile\n",
    "from sklearn.preprocessing import PowerTransformer\n",
    "import pandas as pd"
   ]
  },
  {
   "cell_type": "code",
   "execution_count": 2,
   "metadata": {},
   "outputs": [],
   "source": [
    "# Load our trained model\n",
    "\n",
    "modelLG = pickle.load(open(\"model_test.sav\",\"rb\"))\n",
    "modelKNN = pickle.load(open(\"model_test_knn.sav\",\"rb\"))\n",
    "modelRF = pickle.load(open(\"model_test_tree.sav\",\"rb\"))\n",
    "modelsvm = pickle.load(open(\"svm.sav\",\"rb\"))"
   ]
  },
  {
   "cell_type": "code",
   "execution_count": 3,
   "metadata": {},
   "outputs": [],
   "source": [
    "# Load the power transformer we used in prep\n",
    "\n",
    "pt = pickle.load(open(\"powertransformer.sav\",\"rb\"))"
   ]
  },
  {
   "cell_type": "code",
   "execution_count": 4,
   "metadata": {},
   "outputs": [],
   "source": [
    "# put the same values from extract feature notebook in function variable\n",
    "\n",
    "m_win, m_step, s_win, s_step = 1, 1, 0.1, 0.05 \n"
   ]
  },
  {
   "cell_type": "code",
   "execution_count": 5,
   "metadata": {},
   "outputs": [
    {
     "name": "stdout",
     "output_type": "stream",
     "text": [
      "Analyzing file 1 of 5: test/30_sec_50_cent.wav\n",
      "Analyzing file 2 of 5: test/30_sec_50_cent_downsampled.wav\n",
      "Analyzing file 3 of 5: test/50_Cent.wav\n",
      "Analyzing file 4 of 5: test/chopin.wav\n",
      "Analyzing file 5 of 5: test/metallica.wav\n",
      "Feature extraction complexity ratio: 26.7 x realtime\n"
     ]
    }
   ],
   "source": [
    "features, files, feature_names = aF.directory_feature_extraction(\"test/\",m_win,m_step, s_win,s_step,compute_beat=False)"
   ]
  },
  {
   "cell_type": "code",
   "execution_count": 6,
   "metadata": {},
   "outputs": [],
   "source": [
    "# Use our powertransformer and ONLY transform our features from the parameters we saved in pickle file\n",
    "\n",
    "features_pt = pt.transform(features) "
   ]
  },
  {
   "cell_type": "code",
   "execution_count": 7,
   "metadata": {},
   "outputs": [
    {
     "name": "stdout",
     "output_type": "stream",
     "text": [
      "hiphop : test/30_sec_50_cent.wav\n",
      "reggae : test/30_sec_50_cent_downsampled.wav\n",
      "reggae : test/50_Cent.wav\n",
      "classical : test/chopin.wav\n",
      "metal : test/metallica.wav\n"
     ]
    }
   ],
   "source": [
    "# Predict with logistic regression model\n",
    "for i in range(len(features_pt)):\n",
    "    sample = pd.DataFrame(pd.DataFrame(features_pt[i])).T\n",
    "    print(modelLG.predict(sample)[0],\":\", files[i])"
   ]
  },
  {
   "cell_type": "code",
   "execution_count": 8,
   "metadata": {},
   "outputs": [
    {
     "name": "stdout",
     "output_type": "stream",
     "text": [
      "blues : test/30_sec_50_cent.wav\n",
      "blues : test/30_sec_50_cent_downsampled.wav\n",
      "reggae : test/50_Cent.wav\n",
      "classical : test/chopin.wav\n",
      "metal : test/metallica.wav\n"
     ]
    }
   ],
   "source": [
    "# Predict with KNN model\n",
    "for i in range(len(features_pt)):\n",
    "    sample = pd.DataFrame(pd.DataFrame(features_pt[i])).T\n",
    "    print(modelKNN.predict(sample)[0],\":\", files[i])"
   ]
  },
  {
   "cell_type": "code",
   "execution_count": 9,
   "metadata": {},
   "outputs": [
    {
     "name": "stdout",
     "output_type": "stream",
     "text": [
      "hiphop : test/30_sec_50_cent.wav\n",
      "reggae : test/30_sec_50_cent_downsampled.wav\n",
      "reggae : test/50_Cent.wav\n",
      "classical : test/chopin.wav\n",
      "metal : test/metallica.wav\n"
     ]
    }
   ],
   "source": [
    "# Predict with random forest model\n",
    "for i in range(len(features_pt)):\n",
    "    sample = pd.DataFrame(pd.DataFrame(features_pt[i])).T\n",
    "    print(modelRF.predict(sample)[0],\":\", files[i])"
   ]
  },
  {
   "cell_type": "code",
   "execution_count": 10,
   "metadata": {},
   "outputs": [
    {
     "name": "stdout",
     "output_type": "stream",
     "text": [
      "hiphop : test/30_sec_50_cent.wav\n",
      "hiphop : test/30_sec_50_cent_downsampled.wav\n",
      "reggae : test/50_Cent.wav\n",
      "classical : test/chopin.wav\n",
      "metal : test/metallica.wav\n"
     ]
    }
   ],
   "source": [
    "# Predict with svm model\n",
    "for i in range(len(features_pt)):\n",
    "    sample = pd.DataFrame(pd.DataFrame(features_pt[i])).T\n",
    "    print(modelsvm.predict(sample)[0],\":\", files[i])"
   ]
  },
  {
   "cell_type": "code",
   "execution_count": null,
   "metadata": {},
   "outputs": [],
   "source": []
  }
 ],
 "metadata": {
  "kernelspec": {
   "display_name": "Python 3",
   "language": "python",
   "name": "python3"
  },
  "language_info": {
   "codemirror_mode": {
    "name": "ipython",
    "version": 3
   },
   "file_extension": ".py",
   "mimetype": "text/x-python",
   "name": "python",
   "nbconvert_exporter": "python",
   "pygments_lexer": "ipython3",
   "version": "3.8.5"
  }
 },
 "nbformat": 4,
 "nbformat_minor": 4
}
